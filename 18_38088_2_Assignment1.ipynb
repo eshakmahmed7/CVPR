{
 "cells": [
  {
   "cell_type": "code",
   "execution_count": 1,
   "metadata": {
    "id": "3f8a94f6"
   },
   "outputs": [],
   "source": [
    "import pandas as pd"
   ]
  },
  {
   "cell_type": "code",
   "execution_count": 2,
   "metadata": {
    "colab": {
     "base_uri": "https://localhost:8080/",
     "height": 370
    },
    "id": "06393435",
    "outputId": "19068865-edb4-40d3-f614-45cc6371c65f"
   },
   "outputs": [],
   "source": [
    "df=pd.read_csv('dataset.csv')"
   ]
  },
  {
   "cell_type": "code",
   "execution_count": 3,
   "metadata": {
    "id": "24f3c467"
   },
   "outputs": [
    {
     "data": {
      "text/html": [
       "<div>\n",
       "<style scoped>\n",
       "    .dataframe tbody tr th:only-of-type {\n",
       "        vertical-align: middle;\n",
       "    }\n",
       "\n",
       "    .dataframe tbody tr th {\n",
       "        vertical-align: top;\n",
       "    }\n",
       "\n",
       "    .dataframe thead th {\n",
       "        text-align: right;\n",
       "    }\n",
       "</style>\n",
       "<table border=\"1\" class=\"dataframe\">\n",
       "  <thead>\n",
       "    <tr style=\"text-align: right;\">\n",
       "      <th></th>\n",
       "      <th>X1</th>\n",
       "      <th>X2</th>\n",
       "      <th>Y</th>\n",
       "    </tr>\n",
       "  </thead>\n",
       "  <tbody>\n",
       "    <tr>\n",
       "      <th>0</th>\n",
       "      <td>90</td>\n",
       "      <td>50</td>\n",
       "      <td>1</td>\n",
       "    </tr>\n",
       "    <tr>\n",
       "      <th>1</th>\n",
       "      <td>80</td>\n",
       "      <td>15</td>\n",
       "      <td>1</td>\n",
       "    </tr>\n",
       "    <tr>\n",
       "      <th>2</th>\n",
       "      <td>88</td>\n",
       "      <td>55</td>\n",
       "      <td>0</td>\n",
       "    </tr>\n",
       "    <tr>\n",
       "      <th>3</th>\n",
       "      <td>78</td>\n",
       "      <td>7</td>\n",
       "      <td>1</td>\n",
       "    </tr>\n",
       "    <tr>\n",
       "      <th>4</th>\n",
       "      <td>3</td>\n",
       "      <td>80</td>\n",
       "      <td>0</td>\n",
       "    </tr>\n",
       "    <tr>\n",
       "      <th>...</th>\n",
       "      <td>...</td>\n",
       "      <td>...</td>\n",
       "      <td>...</td>\n",
       "    </tr>\n",
       "    <tr>\n",
       "      <th>94</th>\n",
       "      <td>19</td>\n",
       "      <td>17</td>\n",
       "      <td>1</td>\n",
       "    </tr>\n",
       "    <tr>\n",
       "      <th>95</th>\n",
       "      <td>28</td>\n",
       "      <td>20</td>\n",
       "      <td>1</td>\n",
       "    </tr>\n",
       "    <tr>\n",
       "      <th>96</th>\n",
       "      <td>80</td>\n",
       "      <td>85</td>\n",
       "      <td>0</td>\n",
       "    </tr>\n",
       "    <tr>\n",
       "      <th>97</th>\n",
       "      <td>75</td>\n",
       "      <td>23</td>\n",
       "      <td>0</td>\n",
       "    </tr>\n",
       "    <tr>\n",
       "      <th>98</th>\n",
       "      <td>20</td>\n",
       "      <td>16</td>\n",
       "      <td>1</td>\n",
       "    </tr>\n",
       "  </tbody>\n",
       "</table>\n",
       "<p>99 rows × 3 columns</p>\n",
       "</div>"
      ],
      "text/plain": [
       "    X1  X2  Y\n",
       "0   90  50  1\n",
       "1   80  15  1\n",
       "2   88  55  0\n",
       "3   78   7  1\n",
       "4    3  80  0\n",
       "..  ..  .. ..\n",
       "94  19  17  1\n",
       "95  28  20  1\n",
       "96  80  85  0\n",
       "97  75  23  0\n",
       "98  20  16  1\n",
       "\n",
       "[99 rows x 3 columns]"
      ]
     },
     "execution_count": 3,
     "metadata": {},
     "output_type": "execute_result"
    }
   ],
   "source": [
    "df"
   ]
  },
  {
   "cell_type": "code",
   "execution_count": 4,
   "metadata": {
    "id": "6db96993"
   },
   "outputs": [
    {
     "name": "stdout",
     "output_type": "stream",
     "text": [
      "[90, 80, 88, 78, 3, 35, 75, 85, 9, 89, 34, 75, 34, 17, 99, 6, 54, 78, 81, 23, 55, 87, 56, 76, 3, 25, 64, 51, 94, 82, 4, 63, 40, 38, 12, 22, 87, 37, 10, 84, 7, 32, 83, 75, 80, 36, 29, 30, 88, 10, 15, 42, 92, 20, 7, 2, 11, 73, 65, 41, 17, 90, 75, 40, 29, 64, 83, 99, 96, 22, 72, 39, 34, 89, 71, 10, 68, 42, 73, 87, 39, 5, 12, 74, 95, 4, 17, 16, 91, 33, 1, 75, 83, 82, 19, 28, 80, 75, 20]\n",
      "[50, 15, 55, 7, 80, 66, 47, 6, 95, 58, 101, 6, 53, 67, 44, 69, 61, 43, 29, 64, 57, 56, 78, 90, 34, 12, 56, 78, 94, 26, 45, 63, 53, 24, 98, 25, 40, 84, 68, 64, 31, 52, 80, 50, 75, 51, 38, 38, 6, 52, 31, 40, 24, 53, 54, 45, 32, 62, 45, 24, 49, 4, 45, 37, 41, 60, 75, 44, 29, 32, 80, 54, 1, 33, 50, 44, 52, 40, 37, 66, 94, 82, 17, 21, 12, 25, 84, 56, 25, 91, 84, 33, 77, 85, 17, 20, 85, 23, 16]\n",
      "[1, 1, 0, 1, 0, 1, 0, 0, 0, 0, 1, 1, 1, 1, 0, 0, 1, 1, 1, 0, 0, 1, 1, 0, 1, 1, 0, 0, 0, 0, 1, 1, 1, 1, 0, 0, 0, 0, 1, 0, 1, 1, 0, 0, 0, 1, 1, 1, 0, 1, 1, 1, 0, 1, 1, 1, 1, 0, 0, 1, 1, 0, 0, 1, 1, 0, 0, 0, 0, 1, 0, 1, 1, 0, 0, 1, 0, 1, 0, 0, 1, 1, 1, 0, 0, 1, 1, 1, 0, 1, 1, 0, 0, 0, 1, 1, 0, 0, 1]\n"
     ]
    }
   ],
   "source": [
    "X1=df['X1'].values.tolist()\n",
    "X2=df['X2'].values.tolist()\n",
    "Y=df['Y'].values.tolist()\n",
    "print(X1)\n",
    "print(X2)\n",
    "print(Y)\n"
   ]
  },
  {
   "cell_type": "code",
   "execution_count": null,
   "metadata": {},
   "outputs": [],
   "source": []
  },
  {
   "cell_type": "code",
   "execution_count": 5,
   "metadata": {
    "id": "71fa0130"
   },
   "outputs": [
    {
     "data": {
      "image/png": "[encoded data removed]",
      "text/plain": [
       "<Figure size 432x288 with 1 Axes>"
      ]
     },
     "metadata": {
      "needs_background": "light"
     },
     "output_type": "display_data"
    }
   ],
   "source": [
    "import matplotlib.pyplot as plt\n",
    "import math\n",
    "import random\n",
    "from IPython import display\n",
    "from scipy.signal import savgol_filter\n",
    "plt.figure()\n",
    "for i in range(len(Y)):\n",
    "    if Y[i]==0:\n",
    "        plt.plot(X1[i],X2[i], \"r+\")\n",
    "    else:\n",
    "        plt.plot(X1[i],X2[i],\"g+\")\n",
    "plt.show()"
   ]
  },
  {
   "cell_type": "code",
   "execution_count": null,
   "metadata": {
    "id": "0d0ccaad"
   },
   "outputs": [
    {
     "data": {
      "image/png": "[encoded data removed]",
      "text/plain": [
       "<Figure size 1440x360 with 2 Axes>"
      ]
     },
     "metadata": {
      "needs_background": "light"
     },
     "output_type": "display_data"
    },
    {
     "name": "stdout",
     "output_type": "stream",
     "text": [
      "Epoch: 6 Loss: 0.42424242424242425 and y=[-11.79150901562098, 122.75426907154788] and x=0.51672599461119\n"
     ]
    }
   ],
   "source": [
    "W=[random.random(), random.random()]\n",
    "b=random.random()\n",
    "lr=0.5\n",
    "\n",
    "theta=0.5\n",
    "epoch=0\n",
    "count=0\n",
    "loss=[]\n",
    "while count < len(X1):\n",
    "    total_error=0\n",
    "    for i in range(len(X1)):\n",
    "        ws=W[0]*X1[i]+W[1]*X2[i]+b\n",
    "        pred=0\n",
    "        if ws > theta:\n",
    "            pred=1\n",
    "        \n",
    "        error = Y[i]-pred\n",
    "        if error!=0:\n",
    "            count=0\n",
    "            total_error+=math.sqrt(error**2)\n",
    "            W[0]+=lr*error*X1[i]\n",
    "            W[1]+=lr*error*X2[i]\n",
    "            b+=lr*error\n",
    "        else:\n",
    "            count+=1\n",
    "    loss.append(1/len(X1)*total_error)\n",
    "    plt.figure(figsize=(20,5))\n",
    "    \n",
    "    display.clear_output(wait=True)\n",
    "    plt.subplot(1,2,1)\n",
    "    for i in range(len(Y)):\n",
    "        if Y[i]==0:\n",
    "            plt.plot(X1[i],X2[i], \"ro\")\n",
    "        else:\n",
    "            plt.plot(X1[i],X2[i],\"go\")\n",
    "        plt.xlim(-10,110)\n",
    "        plt.ylim(-10,110)\n",
    "        xint=(theta-b)/W[0]\n",
    "        yint=(theta-b)/W[1]\n",
    "        slope=-yint/xint\n",
    "        x=plt.xlim()\n",
    "        y=[]\n",
    "        for i in x:\n",
    "            y.append(slope*i+yint)\n",
    "        plt.plot(x,y, 'w-',linewidth=5)\n",
    "        plt.fill_between(x=[-10,110],y1=-10,y2=110, color='g',alpha=.02)\n",
    "        plt.fill_between(x=[-10,110],y1=-10,y2=y, color='#7E7EDA',alpha=.5)\n",
    "        #plt.fill_between(x=[-10,110],y1=y,y2=-5, color='g')\n",
    "        \n",
    "    plt.title(f\"Epoch ={epoch} and Total Error={total_error}\")\n",
    "    plt.subplot(1,2,2)\n",
    "    plt.ylim([-.5,1])\n",
    "    plt.plot(loss, alpha=0.3)\n",
    "    if epoch > 15:\n",
    "        avg = savgol_filter(loss, 11, 3) # window size 51, polynomial order 3\n",
    "        plt.plot(avg, 'r--', lw=3)\n",
    "    \n",
    "    plt.show()\n",
    "    print(f\"Epoch: {epoch} Loss: {loss[-1]} and y={y} and x={xint}\")\n",
    "    epoch+=1"
   ]
  },
  {
   "cell_type": "code",
   "execution_count": null,
   "metadata": {
    "id": "25cf99b8"
   },
   "outputs": [],
   "source": []
  },
  {
   "cell_type": "code",
   "execution_count": null,
   "metadata": {
    "id": "7f20ab2d"
   },
   "outputs": [],
   "source": []
  },
  {
   "cell_type": "code",
   "execution_count": null,
   "metadata": {
    "id": "3fca4355"
   },
   "outputs": [],
   "source": []
  },
  {
   "cell_type": "code",
   "execution_count": null,
   "metadata": {
    "id": "d839a323"
   },
   "outputs": [],
   "source": []
  },
  {
   "cell_type": "code",
   "execution_count": null,
   "metadata": {
    "id": "c9c9baa4"
   },
   "outputs": [],
   "source": []
  },
  {
   "cell_type": "code",
   "execution_count": null,
   "metadata": {},
   "outputs": [],
   "source": []
  },
  {
   "cell_type": "code",
   "execution_count": null,
   "metadata": {},
   "outputs": [],
   "source": []
  },
  {
   "cell_type": "code",
   "execution_count": null,
   "metadata": {},
   "outputs": [],
   "source": []
  },
  {
   "cell_type": "code",
   "execution_count": null,
   "metadata": {},
   "outputs": [],
   "source": []
  },
  {
   "cell_type": "code",
   "execution_count": null,
   "metadata": {},
   "outputs": [],
   "source": []
  },
  {
   "cell_type": "code",
   "execution_count": null,
   "metadata": {},
   "outputs": [],
   "source": []
  },
  {
   "cell_type": "code",
   "execution_count": null,
   "metadata": {},
   "outputs": [],
   "source": []
  },
  {
   "cell_type": "code",
   "execution_count": null,
   "metadata": {},
   "outputs": [],
   "source": []
  }
 ],
 "metadata": {
  "colab": {
   "name": "18-38088-2_Assignment1.ipynb",
   "provenance": []
  },
  "kernelspec": {
   "display_name": "Python 3",
   "language": "python",
   "name": "python3"
  },
  "language_info": {
   "codemirror_mode": {
    "name": "ipython",
    "version": 3
   },
   "file_extension": ".py",
   "mimetype": "text/x-python",
   "name": "python",
   "nbconvert_exporter": "python",
   "pygments_lexer": "ipython3",
   "version": "3.8.5"
  }
 },
 "nbformat": 4,
 "nbformat_minor": 5
}
